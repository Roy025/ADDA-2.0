{
  "cells": [
    {
      "cell_type": "markdown",
      "metadata": {
        "id": "view-in-github",
        "colab_type": "text"
      },
      "source": [
        "<a href=\"https://colab.research.google.com/github/Roy025/ADDA-2.0/blob/main/Lab0_2018831055_ipynb_.ipynb\" target=\"_parent\"><img src=\"https://colab.research.google.com/assets/colab-badge.svg\" alt=\"Open In Colab\"/></a>"
      ]
    },
    {
      "cell_type": "markdown",
      "metadata": {
        "id": "txhfjYVERQkp"
      },
      "source": [
        "**Basic Synyax**"
      ]
    },
    {
      "cell_type": "code",
      "execution_count": null,
      "metadata": {
        "colab": {
          "base_uri": "https://localhost:8080/"
        },
        "id": "IoVhFaIuROUI",
        "outputId": "853600f6-aeef-4d11-80dc-6e057726f680"
      },
      "outputs": [
        {
          "name": "stdout",
          "output_type": "stream",
          "text": [
            "Hello World!\n"
          ]
        }
      ],
      "source": [
        "#This is a comment.\n",
        "print(\"Hello World!\")"
      ]
    },
    {
      "cell_type": "markdown",
      "metadata": {
        "id": "6u53GOowSBeQ"
      },
      "source": [
        "**Casting**"
      ]
    },
    {
      "cell_type": "code",
      "execution_count": null,
      "metadata": {
        "colab": {
          "base_uri": "https://localhost:8080/"
        },
        "id": "X3XSca7LSApd",
        "outputId": "4a52afae-c9ac-4814-e225-65cbf5fc359d"
      },
      "outputs": [
        {
          "name": "stdout",
          "output_type": "stream",
          "text": [
            "<class 'str'>\n",
            "<class 'int'>\n",
            "<class 'float'>\n"
          ]
        }
      ],
      "source": [
        "x = str(5)\n",
        "y = int(5)\n",
        "z = float(5)\n",
        "print(type(x))\n",
        "print(type(y))\n",
        "print(type(z))"
      ]
    },
    {
      "cell_type": "markdown",
      "metadata": {
        "id": "_SyOCkzESi_g"
      },
      "source": [
        "**Variable Name**"
      ]
    },
    {
      "cell_type": "code",
      "execution_count": null,
      "metadata": {
        "id": "ucQvXBKZSlI3"
      },
      "outputs": [],
      "source": [
        "myvar = \"Prapti\"\n",
        "my_var = \"Prapti\"\n",
        "_my_var = \"Prapti\"\n",
        "myVar = \"Prapti\"\n",
        "MYVAR = \"Prapti\"\n",
        "myvar2 = \"Prapti\""
      ]
    },
    {
      "cell_type": "markdown",
      "metadata": {
        "id": "8ok49fIyTE_D"
      },
      "source": [
        "**Numbers**"
      ]
    },
    {
      "cell_type": "code",
      "execution_count": null,
      "metadata": {
        "colab": {
          "base_uri": "https://localhost:8080/"
        },
        "id": "xj7i106HTJ8m",
        "outputId": "7c3ad223-cc4a-4705-d901-cc511d29f19d"
      },
      "outputs": [
        {
          "name": "stdout",
          "output_type": "stream",
          "text": [
            "<class 'int'>\n",
            "<class 'float'>\n",
            "<class 'complex'>\n",
            "<class 'complex'>   (678+0j)\n",
            "<class 'int'>   5\n"
          ]
        }
      ],
      "source": [
        "x = 678\n",
        "y = 5.78987654\n",
        "z = 4j\n",
        "\n",
        "print(type(x))\n",
        "print(type(y))\n",
        "print(type(z))\n",
        "\n",
        "\n",
        "\n",
        "a = complex(x)\n",
        "b = int(y)\n",
        "print(str(type(a))+ \"  -  \" + str(a))\n",
        "print(str(type(b))+ \"  -  \" + str(b))\n"
      ]
    },
    {
      "cell_type": "markdown",
      "metadata": {
        "id": "YCmkaaM6UT39"
      },
      "source": [
        "**Strings**"
      ]
    },
    {
      "cell_type": "code",
      "execution_count": null,
      "metadata": {
        "colab": {
          "base_uri": "https://localhost:8080/"
        },
        "id": "IauEav4qUWzF",
        "outputId": "01ab153c-db0d-447a-c12f-611eaac0c9e6"
      },
      "outputs": [
        {
          "output_type": "stream",
          "name": "stdout",
          "text": [
            "This is a String.\n",
            " \n",
            "Length - 17\n",
            "'is' is present.\n",
            "s a String.\n",
            "\n",
            "Update \"This\" with \"It's\" - \n",
            "It's is a String.\n",
            "\n",
            "Concate  - \n",
            "My name is Prapti, and I am 23\n",
            "\n",
            "Insert \"Roy\" before the comma - \n",
            "My name is Prapti Roy, and I am 23\n",
            "\n",
            "Remove age part - \n",
            "My name is Prapti\n",
            "\n"
          ]
        }
      ],
      "source": [
        "#Access Character\n",
        "a = \"This is a String.\"\n",
        "print(a)\n",
        "print(a[9])\n",
        "print(\"Length - \" + str(len(a)))\n",
        "\n",
        "if \"is\" in a:\n",
        "  print(\"'is' is present.\")\n",
        "\n",
        "#Slice\n",
        "print(a[6:])\n",
        "print()\n",
        "\n",
        "\n",
        "#Update \"This\" with \"It's\"\n",
        "print(\"Update \\\"This\\\" with \\\"It's\\\" - \")\n",
        "print(a.replace(\"This\", \"It's\"))\n",
        "print()\n",
        "\n",
        "\n",
        "#Concate\n",
        "x = \"My name is Prapti,\"\n",
        "y = \"and I am\"\n",
        "age = 23\n",
        "t = x + \" \" + y + \" \" + f\"{age}\"\n",
        "print(\"Concate  - \")\n",
        "print(t)\n",
        "print()\n",
        "\n",
        "#Insert\n",
        "index = t.find(',')\n",
        "out = t[:index] + ' Roy' + t[index:]\n",
        "print(\"Insert \\\"Roy\\\" before the comma - \")\n",
        "print(out)\n",
        "print()\n",
        "\n",
        "#Removing\n",
        "new_t = t.replace(f\", and I am {age}\", \"\")\n",
        "print(\"Remove age part - \")\n",
        "print(new_t)\n",
        "print()\n"
      ]
    },
    {
      "cell_type": "markdown",
      "metadata": {
        "id": "7SRpPoBvv1q3"
      },
      "source": [
        "**List**"
      ]
    },
    {
      "cell_type": "code",
      "execution_count": null,
      "metadata": {
        "colab": {
          "base_uri": "https://localhost:8080/"
        },
        "id": "Xkatr9be0fvL",
        "collapsed": true,
        "outputId": "cc7cced5-ed3b-4c06-b08b-d49c461b7453"
      },
      "outputs": [
        {
          "output_type": "stream",
          "name": "stdout",
          "text": [
            "<class 'int'>\n",
            "<class 'str'>\n",
            "[1, 2, 10, 11, 'yfgswyh', 3, 4, 5]\n",
            "Length - 8\n",
            "Access from 2 to 4 - \n",
            "[10, 11, 'yfgswyh']\n",
            "\n",
            "Insert \"Apple\" at index 2 and append True - \n",
            "[1, 2, 'Apple', 10, 11, 'yfgswyh', 3, 4, 5, True]\n",
            "\n",
            "Update 5th index with \"Kiwi\" - \n",
            "[1, 2, 'Apple', 10, 11, 'Kiwi', 3, 4, 5, True]\n",
            "\n",
            "Remove 11 and Pop at index 5 - \n",
            "[1, 2, 'Apple', 10, 'Kiwi', 4, 5, True]\n",
            "\n",
            "[100, 300, 900, 1000, 200, 200, 500, 800]\n",
            "After sorting - \n",
            "[100, 200, 200, 300, 500, 800, 900, 1000]\n",
            "\n",
            "After coping list2 - \n",
            "[100, 200, 200, 300, 500, 800, 900, 1000]\n",
            "\n"
          ]
        }
      ],
      "source": [
        "\n",
        "list1 = [1, 2,10, 11, 'yfgswyh', 3, 4, 5]\n",
        "\n",
        "print(type(list1[1]))\n",
        "print(type(list1[4]))\n",
        "print(list1)\n",
        "\n",
        "print(\"Length - \" + str(len(list1)))\n",
        "\n",
        "#Access\n",
        "print(\"Access from 2 to 4 - \")\n",
        "print(list1[2:5])\n",
        "print()\n",
        "\n",
        "#Insert\n",
        "list1.insert(2, \"Apple\")\n",
        "list1.append(True)\n",
        "print(\"Insert \\\"Apple\\\" at index 2 and append True - \")\n",
        "print(list1)\n",
        "print()\n",
        "\n",
        "\n",
        "#Update\n",
        "list1[5] = \"Kiwi\"\n",
        "print(\"Update 5th index with \\\"Kiwi\\\" - \")\n",
        "print(list1)\n",
        "print()\n",
        "\n",
        "#Remove\n",
        "list1.remove(11)\n",
        "list1.pop(5)\n",
        "print(\"Remove 11 and Pop at index 5 - \")\n",
        "print(list1)\n",
        "print()\n",
        "\n",
        "\n",
        "#Sorting\n",
        "list2 = [100, 300,900,1000, 200,200, 500, 800,]\n",
        "print(list2)\n",
        "list2.sort()\n",
        "print(\"After sorting - \")\n",
        "print(list2)\n",
        "print()\n",
        "\n",
        "#Copy\n",
        "list3 = list2.copy()\n",
        "print(\"After coping list2 - \")\n",
        "print(list3)\n",
        "print()\n",
        "\n",
        "\n",
        "\n"
      ]
    },
    {
      "cell_type": "markdown",
      "metadata": {
        "id": "rB_i2roUv8S7"
      },
      "source": [
        "**Tuples**"
      ]
    },
    {
      "cell_type": "code",
      "execution_count": null,
      "metadata": {
        "colab": {
          "base_uri": "https://localhost:8080/"
        },
        "id": "wjkykK3r2Eng",
        "outputId": "9625e481-325f-476c-d6eb-14b05871576f"
      },
      "outputs": [
        {
          "output_type": "stream",
          "name": "stdout",
          "text": [
            "(1, 2, 3, 'hello', True, 5, 6, 7)\n",
            "Length - 8\n",
            "\n",
            "Access all before 4th index -  \n",
            "(1, 2, 3, 'hello')\n",
            "\n",
            "Insert \"World\" - \n",
            "(1, 2, 3, 'hello', True, 5, 6, 7, 'World')\n",
            "\n",
            "Update index 1 with \"Kiwi\" - \n",
            "(1, 'kiwi', 3, 'hello', True, 5, 6, 7, 'World')\n",
            "\n",
            "Remove 5 from list - \n",
            "(1, 'kiwi', 3, 'hello', True, 6, 7, 'World')\n",
            "\n",
            "Join 2 tuple - \n",
            "(1, 'kiwi', 3, 'hello', True, 6, 7, 'World', 'red', 'blue', 'White')\n"
          ]
        }
      ],
      "source": [
        "\n",
        "\n",
        "tuple1= (1,2,3,\"hello\", True, 5,6,7)\n",
        "print(tuple1)\n",
        "\n",
        "print(\"Length - \" + str(len(tuple1)))\n",
        "print()\n",
        "\n",
        "#Access\n",
        "print(\"Access all before 4th index -  \")\n",
        "print(tuple1[:4])\n",
        "print()\n",
        "\n",
        "#Insert\n",
        "x = list(tuple1)\n",
        "x.append(\"World\")\n",
        "tuple1 = tuple(x)\n",
        "print(\"Insert \\\"World\\\" - \")\n",
        "print(tuple1)\n",
        "print()\n",
        "\n",
        "#Update\n",
        "y = list(tuple1)\n",
        "y[1] = \"kiwi\"\n",
        "tuple1 = tuple(y)\n",
        "print(\"Update index 1 with \\\"Kiwi\\\" - \")\n",
        "print(tuple1)\n",
        "print()\n",
        "\n",
        "#Remove\n",
        "z = list(tuple1)\n",
        "z.remove(5)\n",
        "tuple1 = tuple(z)\n",
        "print(\"Remove 5 from list - \")\n",
        "print(tuple1)\n",
        "print()\n",
        "\n",
        "\n",
        "#Join\n",
        "tuple2 = (\"red\", \"blue\", \"White\")\n",
        "tuple3 = tuple1 + tuple2\n",
        "print(\"Join 2 tuple - \")\n",
        "print(tuple3) "
      ]
    },
    {
      "cell_type": "markdown",
      "metadata": {
        "id": "z07Qq-95yhrJ"
      },
      "source": [
        "**Array**"
      ]
    },
    {
      "cell_type": "code",
      "execution_count": null,
      "metadata": {
        "id": "0gejNXegmgAe"
      },
      "outputs": [],
      "source": [
        "from array import *\n",
        "\n",
        "arr = array('i',[])\n",
        "\n",
        "n = int(input(\"Enter the length of the array - \"))\n",
        "\n",
        "for i in range(n):\n",
        "    x = int(input(\"Enter the next value - \"))\n",
        "    arr.append(x)\n",
        "\n",
        "print(\"Length - \" + str(len(arr)))\n",
        "print(arr)\n",
        "\n",
        "val = int(input(\"Enter the value for search - \"))\n",
        "\n",
        "k = 0\n",
        "for e in arr:\n",
        "    if e==val:\n",
        "        print(k)\n",
        "        break\n",
        "\n",
        "    k+=1\n",
        "\n",
        "print(arr.index(val))"
      ]
    },
    {
      "cell_type": "markdown",
      "source": [
        "**Set**"
      ],
      "metadata": {
        "id": "wgGe9IKiCQuX"
      }
    },
    {
      "cell_type": "code",
      "source": [
        "set1= {1,2,3,\"hello\", True, 5,6,7}\n",
        "print(set1)\n",
        "\n",
        "print(\"Length - \" + str(len(set1)))\n",
        "print()\n",
        "\n",
        "#Access\n",
        "print(\"Access -  \")\n",
        "for i in set1:\n",
        "  print(i)\n",
        "print()\n",
        "\n",
        "#Insert\n",
        "set1.add(\"Apple\")\n",
        "print(\"Insert \\\"Apple\\\" at end - \")\n",
        "print(set1)\n",
        "print()\n",
        "\n",
        "\n",
        "print(\"Adding Set 2 - \")\n",
        "set2 = {200,600,300}\n",
        "set1.update(set2)\n",
        "print(set1)\n",
        "print()\n",
        "\n",
        "#Update\n",
        "x = list(set1)\n",
        "x[9] = \"world\"\n",
        "set1 = set(x)\n",
        "print(\"Update 9th index with 'world' - \")\n",
        "print(set1)\n",
        "print()\n",
        "\n",
        "#Remove\n",
        "print(\"Remove 'hello' - \")\n",
        "set1.discard(\"hello\")\n",
        "print(set1)\n",
        "print()\n"
      ],
      "metadata": {
        "colab": {
          "base_uri": "https://localhost:8080/"
        },
        "id": "sjUKkLIuCRQl",
        "outputId": "e2f5a0f5-ac7c-40ee-ecc4-ca4b9053258a"
      },
      "execution_count": null,
      "outputs": [
        {
          "output_type": "stream",
          "name": "stdout",
          "text": [
            "{1, 2, 3, 5, 'hello', 6, 7}\n",
            "Length - 7\n",
            "\n",
            "Access -  \n",
            "1\n",
            "2\n",
            "3\n",
            "5\n",
            "hello\n",
            "6\n",
            "7\n",
            "\n",
            "Insert \"Apple\" at end - \n",
            "{1, 2, 3, 5, 'hello', 6, 7, 'Apple'}\n",
            "\n",
            "Adding Set 2 - \n",
            "{1, 2, 3, 5, 'hello', 6, 7, 200, 300, 'Apple', 600}\n",
            "\n",
            "Update 9th index with 'world' - \n",
            "{1, 2, 3, 'hello', 5, 6, 7, 200, 300, 'world', 600}\n",
            "\n",
            "Remove 'hello' - \n",
            "{1, 2, 3, 5, 6, 7, 200, 300, 'world', 600}\n",
            "\n"
          ]
        }
      ]
    },
    {
      "cell_type": "markdown",
      "source": [
        "**Dictionary**"
      ],
      "metadata": {
        "id": "aFSTYpUqG5Qa"
      }
    },
    {
      "cell_type": "code",
      "source": [
        "dict1 =\t{\n",
        "  \"name\": \"Prapti\",\n",
        "  \"roll\": \"1055\",\n",
        "  \"year\": 1999\n",
        "}\n",
        "print(type(dict1)) \n",
        "\n",
        "print(\"Length - \" + str(len(dict1)))\n",
        "print()\n",
        "\n",
        "#Access\n",
        "print(\"Access roll - \")\n",
        "print(dict1[\"roll\"])\n",
        "print(dict1.get(\"roll\"))\n",
        "print()\n",
        "\n",
        "print(dict1.keys())\n",
        "print()\n",
        "\n",
        "print(dict1.values())\n",
        "print()\n",
        "\n",
        "print(dict1.items())\n",
        "print()\n",
        "\n",
        "#Insert\n",
        "dict1[\"age\"] = 23\n",
        "print(\"Insert Age - \")\n",
        "print(dict1)\n",
        "print()\n",
        "\n",
        "\n",
        "#Update\n",
        "dict1[\"roll\"] = 2018831055\n",
        "print(\"Update Roll - \")\n",
        "print(dict1)\n",
        "print()\n",
        "\n",
        "#Remove\n",
        "dict1.pop(\"year\")\n",
        "print(\"Remove Year - \")\n",
        "print(dict1)\n",
        "print()\n",
        "\n",
        "\n",
        "#Copy\n",
        "dict2 = dict1.copy()\n",
        "print(\"Copy 1st dictionary - \")\n",
        "print(dict2)"
      ],
      "metadata": {
        "colab": {
          "base_uri": "https://localhost:8080/"
        },
        "id": "X3G9ftU0G_B3",
        "outputId": "41b68114-4788-4a66-b5f1-15a37cef265f"
      },
      "execution_count": null,
      "outputs": [
        {
          "output_type": "stream",
          "name": "stdout",
          "text": [
            "<class 'dict'>\n",
            "Length - 3\n",
            "\n",
            "Access roll - \n",
            "1055\n",
            "1055\n",
            "\n",
            "dict_keys(['name', 'roll', 'year'])\n",
            "\n",
            "dict_values(['Prapti', '1055', 1999])\n",
            "\n",
            "dict_items([('name', 'Prapti'), ('roll', '1055'), ('year', 1999)])\n",
            "\n",
            "Insert Age - \n",
            "{'name': 'Prapti', 'roll': '1055', 'year': 1999, 'age': 23}\n",
            "\n",
            "Update Roll - \n",
            "{'name': 'Prapti', 'roll': 2018831055, 'year': 1999, 'age': 23}\n",
            "\n",
            "Remove Year - \n",
            "{'name': 'Prapti', 'roll': 2018831055, 'age': 23}\n",
            "\n",
            "Copy 1st dictionary - \n",
            "{'name': 'Prapti', 'roll': 2018831055, 'age': 23}\n"
          ]
        }
      ]
    },
    {
      "cell_type": "markdown",
      "source": [
        "**Conditions**"
      ],
      "metadata": {
        "id": "MBE0ah_sK75-"
      }
    },
    {
      "cell_type": "code",
      "source": [
        "a = int(input(\"A = \"))\n",
        "b = int(input(\"B = \"))\n",
        "c = int(input(\"C = \"))\n",
        "\n",
        "\n",
        "if a > b or a > c:\n",
        "  print(\"At least one of the conditions is True\")\n",
        "if a > b and a > c:\n",
        "  print(\"a is greater than b , c\")\n",
        "elif b > a and b > c:\n",
        "  print(\"b is greater than a , c\")\n",
        "elif a == b:\n",
        "  print(\"a and b are equal\")\n",
        "elif c > a:\n",
        "  print(\"C is greater.\")\n",
        "else:\n",
        "  pass"
      ],
      "metadata": {
        "id": "bGRAvhJcK_Xo"
      },
      "execution_count": null,
      "outputs": []
    }
  ],
  "metadata": {
    "colab": {
      "collapsed_sections": [],
      "provenance": [],
      "authorship_tag": "ABX9TyN2R1loaHLdDTWAic8blo7K",
      "include_colab_link": true
    },
    "kernelspec": {
      "display_name": "Python 3",
      "name": "python3"
    },
    "language_info": {
      "name": "python"
    }
  },
  "nbformat": 4,
  "nbformat_minor": 0
}